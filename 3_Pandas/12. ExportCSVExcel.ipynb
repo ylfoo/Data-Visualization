{
 "cells": [
  {
   "cell_type": "code",
   "execution_count": 1,
   "metadata": {},
   "outputs": [],
   "source": [
    "# !git clone https://github.com/ylfoo/Data-Visualization/"
   ]
  },
  {
   "cell_type": "code",
   "execution_count": 2,
   "metadata": {},
   "outputs": [],
   "source": [
    "# cd /content/Data-Visualization/3_Pandas/"
   ]
  },
  {
   "cell_type": "code",
   "execution_count": 1,
   "metadata": {},
   "outputs": [],
   "source": [
    "# Import libraries\n",
    "import pandas as pd\n",
    "import numpy as np"
   ]
  },
  {
   "cell_type": "code",
   "execution_count": 2,
   "metadata": {},
   "outputs": [],
   "source": [
    "# Load Excel File\n",
    "filename = 'data/car_financing.xlsx'\n",
    "df = pd.read_excel(filename)"
   ]
  },
  {
   "cell_type": "code",
   "execution_count": 3,
   "metadata": {},
   "outputs": [],
   "source": [
    "## Filtering \n",
    "car_filter = df['car_type']=='Toyota Sienna'\n",
    "interest_filter = df['interest_rate']==0.0702\n",
    "df = df.loc[car_filter & interest_filter, :]"
   ]
  },
  {
   "cell_type": "code",
   "execution_count": 4,
   "metadata": {},
   "outputs": [],
   "source": [
    "# Approach 1 dictionary substitution using rename method\n",
    "df = df.rename(columns={'Starting Balance': 'starting_balance',\n",
    "                        'Interest Paid': 'interest_paid', \n",
    "                        'Principal Paid': 'principal_paid',\n",
    "                        'New Balance': 'new_balance'})"
   ]
  },
  {
   "cell_type": "code",
   "execution_count": 5,
   "metadata": {},
   "outputs": [],
   "source": [
    "# Approach 2 list replacement\n",
    "# Only changing Month -> month, but we need to list the rest of the columns\n",
    "df.columns = ['month',\n",
    "              'starting_balance',\n",
    "              'Repayment',\n",
    "              'interest_paid',\n",
    "              'principal_paid',\n",
    "              'new_balance',\n",
    "              'term',\n",
    "              'interest_rate',\n",
    "              'car_type']"
   ]
  },
  {
   "cell_type": "code",
   "execution_count": 6,
   "metadata": {},
   "outputs": [],
   "source": [
    "# Approach 1\n",
    "# This approach allows you to drop multiple columns at a time \n",
    "df = df.drop(columns=['term'])"
   ]
  },
  {
   "cell_type": "code",
   "execution_count": 7,
   "metadata": {},
   "outputs": [],
   "source": [
    "# Approach 2 use the del command\n",
    "del df['Repayment']"
   ]
  },
  {
   "cell_type": "code",
   "execution_count": 8,
   "metadata": {},
   "outputs": [
    {
     "data": {
      "text/plain": [
       "(60, 7)"
      ]
     },
     "execution_count": 8,
     "metadata": {},
     "output_type": "execute_result"
    }
   ],
   "source": [
    "df.shape"
   ]
  },
  {
   "cell_type": "code",
   "execution_count": 9,
   "metadata": {},
   "outputs": [],
   "source": [
    "# missing values can be excluded in calculations by default. \n",
    "# excludes missing values in the calculation \n",
    "interest_missing = df['interest_paid'].isna()"
   ]
  },
  {
   "cell_type": "code",
   "execution_count": 10,
   "metadata": {},
   "outputs": [],
   "source": [
    "# Fill in with the actual value\n",
    "df.loc[interest_missing,'interest_paid'] = 93.24"
   ]
  },
  {
   "cell_type": "markdown",
   "metadata": {},
   "source": [
    "### Export Pandas DataFrames to CSV and Excel files\n",
    "#### Export DataFrame to CSV File"
   ]
  },
  {
   "cell_type": "code",
   "execution_count": null,
   "metadata": {},
   "outputs": [],
   "source": []
  },
  {
   "cell_type": "markdown",
   "metadata": {},
   "source": [
    "#### Export DataFrame to Excel File"
   ]
  },
  {
   "cell_type": "code",
   "execution_count": null,
   "metadata": {},
   "outputs": [],
   "source": []
  },
  {
   "cell_type": "code",
   "execution_count": 1,
   "metadata": {},
   "outputs": [],
   "source": [
    "# Keep in mind that if you dont know a methods parameters,\n",
    "# you can look them up using the help command. \n"
   ]
  },
  {
   "cell_type": "code",
   "execution_count": 14,
   "metadata": {},
   "outputs": [
    {
     "name": "stdout",
     "output_type": "stream",
     "text": [
      "Help on method to_excel in module pandas.core.generic:\n",
      "\n",
      "to_excel(excel_writer, sheet_name: 'str' = 'Sheet1', na_rep: 'str' = '', float_format: 'str | None' = None, columns=None, header=True, index=True, index_label=None, startrow=0, startcol=0, engine=None, merge_cells=True, encoding=None, inf_rep='inf', verbose=True, freeze_panes=None, storage_options: 'StorageOptions' = None) -> 'None' method of pandas.core.frame.DataFrame instance\n",
      "    Write object to an Excel sheet.\n",
      "    \n",
      "    To write a single object to an Excel .xlsx file it is only necessary to\n",
      "    specify a target file name. To write to multiple sheets it is necessary to\n",
      "    create an `ExcelWriter` object with a target file name, and specify a sheet\n",
      "    in the file to write to.\n",
      "    \n",
      "    Multiple sheets may be written to by specifying unique `sheet_name`.\n",
      "    With all data written to the file it is necessary to save the changes.\n",
      "    Note that creating an `ExcelWriter` object with a file name that already\n",
      "    exists will result in the contents of the existing file being erased.\n",
      "    \n",
      "    Parameters\n",
      "    ----------\n",
      "    excel_writer : path-like, file-like, or ExcelWriter object\n",
      "        File path or existing ExcelWriter.\n",
      "    sheet_name : str, default 'Sheet1'\n",
      "        Name of sheet which will contain DataFrame.\n",
      "    na_rep : str, default ''\n",
      "        Missing data representation.\n",
      "    float_format : str, optional\n",
      "        Format string for floating point numbers. For example\n",
      "        ``float_format=\"%.2f\"`` will format 0.1234 to 0.12.\n",
      "    columns : sequence or list of str, optional\n",
      "        Columns to write.\n",
      "    header : bool or list of str, default True\n",
      "        Write out the column names. If a list of string is given it is\n",
      "        assumed to be aliases for the column names.\n",
      "    index : bool, default True\n",
      "        Write row names (index).\n",
      "    index_label : str or sequence, optional\n",
      "        Column label for index column(s) if desired. If not specified, and\n",
      "        `header` and `index` are True, then the index names are used. A\n",
      "        sequence should be given if the DataFrame uses MultiIndex.\n",
      "    startrow : int, default 0\n",
      "        Upper left cell row to dump data frame.\n",
      "    startcol : int, default 0\n",
      "        Upper left cell column to dump data frame.\n",
      "    engine : str, optional\n",
      "        Write engine to use, 'openpyxl' or 'xlsxwriter'. You can also set this\n",
      "        via the options ``io.excel.xlsx.writer``, ``io.excel.xls.writer``, and\n",
      "        ``io.excel.xlsm.writer``.\n",
      "    \n",
      "        .. deprecated:: 1.2.0\n",
      "    \n",
      "            As the `xlwt <https://pypi.org/project/xlwt/>`__ package is no longer\n",
      "            maintained, the ``xlwt`` engine will be removed in a future version\n",
      "            of pandas.\n",
      "    \n",
      "    merge_cells : bool, default True\n",
      "        Write MultiIndex and Hierarchical Rows as merged cells.\n",
      "    encoding : str, optional\n",
      "        Encoding of the resulting excel file. Only necessary for xlwt,\n",
      "        other writers support unicode natively.\n",
      "    inf_rep : str, default 'inf'\n",
      "        Representation for infinity (there is no native representation for\n",
      "        infinity in Excel).\n",
      "    verbose : bool, default True\n",
      "        Display more information in the error logs.\n",
      "    freeze_panes : tuple of int (length 2), optional\n",
      "        Specifies the one-based bottommost row and rightmost column that\n",
      "        is to be frozen.\n",
      "    storage_options : dict, optional\n",
      "        Extra options that make sense for a particular storage connection, e.g.\n",
      "        host, port, username, password, etc. For HTTP(S) URLs the key-value pairs\n",
      "        are forwarded to ``urllib`` as header options. For other URLs (e.g.\n",
      "        starting with \"s3://\", and \"gcs://\") the key-value pairs are forwarded to\n",
      "        ``fsspec``. Please see ``fsspec`` and ``urllib`` for more details.\n",
      "    \n",
      "        .. versionadded:: 1.2.0\n",
      "    \n",
      "    See Also\n",
      "    --------\n",
      "    to_csv : Write DataFrame to a comma-separated values (csv) file.\n",
      "    ExcelWriter : Class for writing DataFrame objects into excel sheets.\n",
      "    read_excel : Read an Excel file into a pandas DataFrame.\n",
      "    read_csv : Read a comma-separated values (csv) file into DataFrame.\n",
      "    \n",
      "    Notes\n",
      "    -----\n",
      "    For compatibility with :meth:`~DataFrame.to_csv`,\n",
      "    to_excel serializes lists and dicts to strings before writing.\n",
      "    \n",
      "    Once a workbook has been saved it is not possible to write further\n",
      "    data without rewriting the whole workbook.\n",
      "    \n",
      "    Examples\n",
      "    --------\n",
      "    \n",
      "    Create, write to and save a workbook:\n",
      "    \n",
      "    >>> df1 = pd.DataFrame([['a', 'b'], ['c', 'd']],\n",
      "    ...                    index=['row 1', 'row 2'],\n",
      "    ...                    columns=['col 1', 'col 2'])\n",
      "    >>> df1.to_excel(\"output.xlsx\")  # doctest: +SKIP\n",
      "    \n",
      "    To specify the sheet name:\n",
      "    \n",
      "    >>> df1.to_excel(\"output.xlsx\",\n",
      "    ...              sheet_name='Sheet_name_1')  # doctest: +SKIP\n",
      "    \n",
      "    If you wish to write to more than one sheet in the workbook, it is\n",
      "    necessary to specify an ExcelWriter object:\n",
      "    \n",
      "    >>> df2 = df1.copy()\n",
      "    >>> with pd.ExcelWriter('output.xlsx') as writer:  # doctest: +SKIP\n",
      "    ...     df1.to_excel(writer, sheet_name='Sheet_name_1')\n",
      "    ...     df2.to_excel(writer, sheet_name='Sheet_name_2')\n",
      "    \n",
      "    ExcelWriter can also be used to append to an existing Excel file:\n",
      "    \n",
      "    >>> with pd.ExcelWriter('output.xlsx',\n",
      "    ...                     mode='a') as writer:  # doctest: +SKIP\n",
      "    ...     df.to_excel(writer, sheet_name='Sheet_name_3')\n",
      "    \n",
      "    To set the library that is used to write the Excel file,\n",
      "    you can pass the `engine` keyword (the default engine is\n",
      "    automatically chosen depending on the file extension):\n",
      "    \n",
      "    >>> df1.to_excel('output1.xlsx', engine='xlsxwriter')  # doctest: +SKIP\n",
      "\n"
     ]
    }
   ],
   "source": [
    "# Keep in mind that if you dont know a methods parameters,\n",
    "# you can look them up using the help command. \n",
    "help(df.to_excel)"
   ]
  },
  {
   "cell_type": "markdown",
   "metadata": {},
   "source": [
    "It is also good idea to check your exported files."
   ]
  }
 ],
 "metadata": {
  "anaconda-cloud": {},
  "kernelspec": {
   "display_name": "Python 3 (ipykernel)",
   "language": "python",
   "name": "python3"
  },
  "language_info": {
   "codemirror_mode": {
    "name": "ipython",
    "version": 3
   },
   "file_extension": ".py",
   "mimetype": "text/x-python",
   "name": "python",
   "nbconvert_exporter": "python",
   "pygments_lexer": "ipython3",
   "version": "3.9.13"
  }
 },
 "nbformat": 4,
 "nbformat_minor": 1
}
