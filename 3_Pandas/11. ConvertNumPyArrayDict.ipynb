{
 "cells": [
  {
   "cell_type": "code",
   "execution_count": 1,
   "metadata": {},
   "outputs": [],
   "source": [
    "# !git clone https://github.com/ylfoo/Data-Visualization/"
   ]
  },
  {
   "cell_type": "code",
   "execution_count": 2,
   "metadata": {},
   "outputs": [],
   "source": [
    "# cd /content/Data-Visualization/3_Pandas/"
   ]
  },
  {
   "cell_type": "code",
   "execution_count": 1,
   "metadata": {},
   "outputs": [],
   "source": [
    "# Import libraries\n",
    "import pandas as pd\n",
    "import numpy as np"
   ]
  },
  {
   "cell_type": "code",
   "execution_count": 2,
   "metadata": {},
   "outputs": [],
   "source": [
    "# Load Excel File\n",
    "filename = 'data/car_financing.xlsx'\n",
    "df = pd.read_excel(filename)"
   ]
  },
  {
   "cell_type": "code",
   "execution_count": 3,
   "metadata": {},
   "outputs": [],
   "source": [
    "## Filtering \n",
    "car_filter = df['car_type']=='Toyota Sienna'\n",
    "interest_filter = df['interest_rate']==0.0702\n",
    "df = df.loc[car_filter & interest_filter, :]"
   ]
  },
  {
   "cell_type": "code",
   "execution_count": 4,
   "metadata": {},
   "outputs": [],
   "source": [
    "# Approach 1 dictionary substitution using rename method\n",
    "df = df.rename(columns={'Starting Balance': 'starting_balance',\n",
    "                        'Interest Paid': 'interest_paid', \n",
    "                        'Principal Paid': 'principal_paid',\n",
    "                        'New Balance': 'new_balance'})"
   ]
  },
  {
   "cell_type": "code",
   "execution_count": 5,
   "metadata": {},
   "outputs": [],
   "source": [
    "# Approach 2 list replacement\n",
    "# Only changing Month -> month, but we need to list the rest of the columns\n",
    "df.columns = ['month',\n",
    "              'starting_balance',\n",
    "              'Repayment',\n",
    "              'interest_paid',\n",
    "              'principal_paid',\n",
    "              'new_balance',\n",
    "              'term',\n",
    "              'interest_rate',\n",
    "              'car_type']"
   ]
  },
  {
   "cell_type": "code",
   "execution_count": 6,
   "metadata": {},
   "outputs": [],
   "source": [
    "# Approach 1\n",
    "# This approach allows you to drop multiple columns at a time \n",
    "df = df.drop(columns=['term'])"
   ]
  },
  {
   "cell_type": "code",
   "execution_count": 7,
   "metadata": {},
   "outputs": [],
   "source": [
    "# Approach 2 use the del command\n",
    "del df['Repayment']"
   ]
  },
  {
   "cell_type": "code",
   "execution_count": 8,
   "metadata": {},
   "outputs": [
    {
     "data": {
      "text/plain": [
       "(60, 7)"
      ]
     },
     "execution_count": 8,
     "metadata": {},
     "output_type": "execute_result"
    }
   ],
   "source": [
    "df.shape"
   ]
  },
  {
   "cell_type": "markdown",
   "metadata": {},
   "source": [
    "Missing values can be excluded in the calculation by default.  \n",
    "Exclude missing values in the following calculation."
   ]
  },
  {
   "cell_type": "code",
   "execution_count": null,
   "metadata": {},
   "outputs": [],
   "source": []
  },
  {
   "cell_type": "code",
   "execution_count": null,
   "metadata": {},
   "outputs": [],
   "source": []
  },
  {
   "cell_type": "markdown",
   "metadata": {},
   "source": [
    "## Convert Pandas DataFrames to NumPy arrays or Dictionaries"
   ]
  },
  {
   "cell_type": "code",
   "execution_count": 11,
   "metadata": {},
   "outputs": [
    {
     "data": {
      "text/html": [
       "<div>\n",
       "<style scoped>\n",
       "    .dataframe tbody tr th:only-of-type {\n",
       "        vertical-align: middle;\n",
       "    }\n",
       "\n",
       "    .dataframe tbody tr th {\n",
       "        vertical-align: top;\n",
       "    }\n",
       "\n",
       "    .dataframe thead th {\n",
       "        text-align: right;\n",
       "    }\n",
       "</style>\n",
       "<table border=\"1\" class=\"dataframe\">\n",
       "  <thead>\n",
       "    <tr style=\"text-align: right;\">\n",
       "      <th></th>\n",
       "      <th>month</th>\n",
       "      <th>starting_balance</th>\n",
       "      <th>interest_paid</th>\n",
       "      <th>principal_paid</th>\n",
       "      <th>new_balance</th>\n",
       "      <th>interest_rate</th>\n",
       "      <th>car_type</th>\n",
       "    </tr>\n",
       "  </thead>\n",
       "  <tbody>\n",
       "    <tr>\n",
       "      <th>0</th>\n",
       "      <td>1</td>\n",
       "      <td>34689.96</td>\n",
       "      <td>202.93</td>\n",
       "      <td>484.30</td>\n",
       "      <td>34205.66</td>\n",
       "      <td>0.0702</td>\n",
       "      <td>Toyota Sienna</td>\n",
       "    </tr>\n",
       "    <tr>\n",
       "      <th>1</th>\n",
       "      <td>2</td>\n",
       "      <td>34205.66</td>\n",
       "      <td>200.10</td>\n",
       "      <td>487.13</td>\n",
       "      <td>33718.53</td>\n",
       "      <td>0.0702</td>\n",
       "      <td>Toyota Sienna</td>\n",
       "    </tr>\n",
       "    <tr>\n",
       "      <th>2</th>\n",
       "      <td>3</td>\n",
       "      <td>33718.53</td>\n",
       "      <td>197.25</td>\n",
       "      <td>489.98</td>\n",
       "      <td>33228.55</td>\n",
       "      <td>0.0702</td>\n",
       "      <td>Toyota Sienna</td>\n",
       "    </tr>\n",
       "    <tr>\n",
       "      <th>3</th>\n",
       "      <td>4</td>\n",
       "      <td>33228.55</td>\n",
       "      <td>194.38</td>\n",
       "      <td>492.85</td>\n",
       "      <td>32735.70</td>\n",
       "      <td>0.0702</td>\n",
       "      <td>Toyota Sienna</td>\n",
       "    </tr>\n",
       "    <tr>\n",
       "      <th>4</th>\n",
       "      <td>5</td>\n",
       "      <td>32735.70</td>\n",
       "      <td>191.50</td>\n",
       "      <td>495.73</td>\n",
       "      <td>32239.97</td>\n",
       "      <td>0.0702</td>\n",
       "      <td>Toyota Sienna</td>\n",
       "    </tr>\n",
       "  </tbody>\n",
       "</table>\n",
       "</div>"
      ],
      "text/plain": [
       "   month  starting_balance  interest_paid  principal_paid  new_balance  \\\n",
       "0      1          34689.96         202.93          484.30     34205.66   \n",
       "1      2          34205.66         200.10          487.13     33718.53   \n",
       "2      3          33718.53         197.25          489.98     33228.55   \n",
       "3      4          33228.55         194.38          492.85     32735.70   \n",
       "4      5          32735.70         191.50          495.73     32239.97   \n",
       "\n",
       "   interest_rate       car_type  \n",
       "0         0.0702  Toyota Sienna  \n",
       "1         0.0702  Toyota Sienna  \n",
       "2         0.0702  Toyota Sienna  \n",
       "3         0.0702  Toyota Sienna  \n",
       "4         0.0702  Toyota Sienna  "
      ]
     },
     "execution_count": 11,
     "metadata": {},
     "output_type": "execute_result"
    }
   ],
   "source": [
    "df.head()"
   ]
  },
  {
   "cell_type": "markdown",
   "metadata": {},
   "source": [
    "### Convert Pandas DataFrames to NumPy Arrays\n",
    "#### Approach 1: to_numpy()"
   ]
  },
  {
   "cell_type": "code",
   "execution_count": null,
   "metadata": {},
   "outputs": [],
   "source": []
  },
  {
   "cell_type": "markdown",
   "metadata": {},
   "source": [
    "#### Approach 2: values"
   ]
  },
  {
   "cell_type": "code",
   "execution_count": null,
   "metadata": {},
   "outputs": [],
   "source": []
  },
  {
   "cell_type": "markdown",
   "metadata": {},
   "source": [
    "### Convert Pandas DataFrames to Dictionaries\n",
    "#### to_dict()"
   ]
  },
  {
   "cell_type": "code",
   "execution_count": null,
   "metadata": {},
   "outputs": [],
   "source": []
  }
 ],
 "metadata": {
  "anaconda-cloud": {},
  "kernelspec": {
   "display_name": "Python 3 (ipykernel)",
   "language": "python",
   "name": "python3"
  },
  "language_info": {
   "codemirror_mode": {
    "name": "ipython",
    "version": 3
   },
   "file_extension": ".py",
   "mimetype": "text/x-python",
   "name": "python",
   "nbconvert_exporter": "python",
   "pygments_lexer": "ipython3",
   "version": "3.9.13"
  }
 },
 "nbformat": 4,
 "nbformat_minor": 1
}
